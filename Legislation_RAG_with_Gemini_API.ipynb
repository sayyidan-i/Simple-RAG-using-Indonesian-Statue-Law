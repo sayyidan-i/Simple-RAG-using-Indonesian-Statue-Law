{
  "nbformat": 4,
  "nbformat_minor": 0,
  "metadata": {
    "colab": {
      "provenance": []
    },
    "kernelspec": {
      "name": "python3",
      "display_name": "Python 3"
    },
    "language_info": {
      "name": "python"
    }
  },
  "cells": [
    {
      "cell_type": "code",
      "execution_count": null,
      "metadata": {
        "colab": {
          "base_uri": "https://localhost:8080/"
        },
        "id": "pHfvKlAkdGX-",
        "outputId": "12a1d321-b22b-4498-d554-a8bf3371ec16"
      },
      "outputs": [
        {
          "output_type": "stream",
          "name": "stdout",
          "text": [
            "\u001b[?25l     \u001b[90m━━━━━━━━━━━━━━━━━━━━━━━━━━━━━━━━━━━━━━━━\u001b[0m \u001b[32m0.0/67.3 kB\u001b[0m \u001b[31m?\u001b[0m eta \u001b[36m-:--:--\u001b[0m\r\u001b[2K     \u001b[91m━━━━━━━━━━━━━━━━━━━━━━━━━━━━━━━━━━━━\u001b[0m\u001b[91m╸\u001b[0m\u001b[90m━━━\u001b[0m \u001b[32m61.4/67.3 kB\u001b[0m \u001b[31m1.6 MB/s\u001b[0m eta \u001b[36m0:00:01\u001b[0m\r\u001b[2K     \u001b[90m━━━━━━━━━━━━━━━━━━━━━━━━━━━━━━━━━━━━━━━━\u001b[0m \u001b[32m67.3/67.3 kB\u001b[0m \u001b[31m1.1 MB/s\u001b[0m eta \u001b[36m0:00:00\u001b[0m\n",
            "\u001b[?25h  Installing build dependencies ... \u001b[?25l\u001b[?25hdone\n",
            "  Getting requirements to build wheel ... \u001b[?25l\u001b[?25hdone\n",
            "  Preparing metadata (pyproject.toml) ... \u001b[?25l\u001b[?25hdone\n",
            "\u001b[2K     \u001b[90m━━━━━━━━━━━━━━━━━━━━━━━━━━━━━━━━━━━━━━━━\u001b[0m \u001b[32m50.4/50.4 kB\u001b[0m \u001b[31m3.2 MB/s\u001b[0m eta \u001b[36m0:00:00\u001b[0m\n",
            "\u001b[2K   \u001b[90m━━━━━━━━━━━━━━━━━━━━━━━━━━━━━━━━━━━━━━━━\u001b[0m \u001b[32m990.6/990.6 kB\u001b[0m \u001b[31m7.4 MB/s\u001b[0m eta \u001b[36m0:00:00\u001b[0m\n",
            "\u001b[2K   \u001b[90m━━━━━━━━━━━━━━━━━━━━━━━━━━━━━━━━━━━━━━━━\u001b[0m \u001b[32m2.3/2.3 MB\u001b[0m \u001b[31m30.5 MB/s\u001b[0m eta \u001b[36m0:00:00\u001b[0m\n",
            "\u001b[2K   \u001b[90m━━━━━━━━━━━━━━━━━━━━━━━━━━━━━━━━━━━━━━━━\u001b[0m \u001b[32m584.3/584.3 kB\u001b[0m \u001b[31m27.4 MB/s\u001b[0m eta \u001b[36m0:00:00\u001b[0m\n",
            "\u001b[2K   \u001b[90m━━━━━━━━━━━━━━━━━━━━━━━━━━━━━━━━━━━━━━━━\u001b[0m \u001b[32m2.4/2.4 MB\u001b[0m \u001b[31m50.0 MB/s\u001b[0m eta \u001b[36m0:00:00\u001b[0m\n",
            "\u001b[2K   \u001b[90m━━━━━━━━━━━━━━━━━━━━━━━━━━━━━━━━━━━━━━━━\u001b[0m \u001b[32m295.8/295.8 kB\u001b[0m \u001b[31m16.9 MB/s\u001b[0m eta \u001b[36m0:00:00\u001b[0m\n",
            "\u001b[2K   \u001b[90m━━━━━━━━━━━━━━━━━━━━━━━━━━━━━━━━━━━━━━━━\u001b[0m \u001b[32m273.8/273.8 kB\u001b[0m \u001b[31m16.3 MB/s\u001b[0m eta \u001b[36m0:00:00\u001b[0m\n",
            "\u001b[2K   \u001b[90m━━━━━━━━━━━━━━━━━━━━━━━━━━━━━━━━━━━━━━━━\u001b[0m \u001b[32m93.1/93.1 kB\u001b[0m \u001b[31m5.6 MB/s\u001b[0m eta \u001b[36m0:00:00\u001b[0m\n",
            "\u001b[2K   \u001b[90m━━━━━━━━━━━━━━━━━━━━━━━━━━━━━━━━━━━━━━━━\u001b[0m \u001b[32m75.6/75.6 kB\u001b[0m \u001b[31m4.4 MB/s\u001b[0m eta \u001b[36m0:00:00\u001b[0m\n",
            "\u001b[2K   \u001b[90m━━━━━━━━━━━━━━━━━━━━━━━━━━━━━━━━━━━━━━━━\u001b[0m \u001b[32m77.9/77.9 kB\u001b[0m \u001b[31m4.4 MB/s\u001b[0m eta \u001b[36m0:00:00\u001b[0m\n",
            "\u001b[2K   \u001b[90m━━━━━━━━━━━━━━━━━━━━━━━━━━━━━━━━━━━━━━━━\u001b[0m \u001b[32m1.7/1.7 MB\u001b[0m \u001b[31m43.9 MB/s\u001b[0m eta \u001b[36m0:00:00\u001b[0m\n",
            "\u001b[2K   \u001b[90m━━━━━━━━━━━━━━━━━━━━━━━━━━━━━━━━━━━━━━━━\u001b[0m \u001b[32m384.0/384.0 kB\u001b[0m \u001b[31m17.3 MB/s\u001b[0m eta \u001b[36m0:00:00\u001b[0m\n",
            "\u001b[2K   \u001b[90m━━━━━━━━━━━━━━━━━━━━━━━━━━━━━━━━━━━━━━━━\u001b[0m \u001b[32m140.2/140.2 kB\u001b[0m \u001b[31m8.2 MB/s\u001b[0m eta \u001b[36m0:00:00\u001b[0m\n",
            "\u001b[2K   \u001b[90m━━━━━━━━━━━━━━━━━━━━━━━━━━━━━━━━━━━━━━━━\u001b[0m \u001b[32m67.6/67.6 kB\u001b[0m \u001b[31m4.3 MB/s\u001b[0m eta \u001b[36m0:00:00\u001b[0m\n",
            "\u001b[2K   \u001b[90m━━━━━━━━━━━━━━━━━━━━━━━━━━━━━━━━━━━━━━━━\u001b[0m \u001b[32m6.8/6.8 MB\u001b[0m \u001b[31m53.2 MB/s\u001b[0m eta \u001b[36m0:00:00\u001b[0m\n",
            "\u001b[2K   \u001b[90m━━━━━━━━━━━━━━━━━━━━━━━━━━━━━━━━━━━━━━━━\u001b[0m \u001b[32m61.5/61.5 kB\u001b[0m \u001b[31m4.2 MB/s\u001b[0m eta \u001b[36m0:00:00\u001b[0m\n",
            "\u001b[2K   \u001b[90m━━━━━━━━━━━━━━━━━━━━━━━━━━━━━━━━━━━━━━━━\u001b[0m \u001b[32m52.5/52.5 kB\u001b[0m \u001b[31m3.1 MB/s\u001b[0m eta \u001b[36m0:00:00\u001b[0m\n",
            "\u001b[2K   \u001b[90m━━━━━━━━━━━━━━━━━━━━━━━━━━━━━━━━━━━━━━━━\u001b[0m \u001b[32m138.0/138.0 kB\u001b[0m \u001b[31m8.9 MB/s\u001b[0m eta \u001b[36m0:00:00\u001b[0m\n",
            "\u001b[2K   \u001b[90m━━━━━━━━━━━━━━━━━━━━━━━━━━━━━━━━━━━━━━━━\u001b[0m \u001b[32m109.5/109.5 kB\u001b[0m \u001b[31m6.0 MB/s\u001b[0m eta \u001b[36m0:00:00\u001b[0m\n",
            "\u001b[2K   \u001b[90m━━━━━━━━━━━━━━━━━━━━━━━━━━━━━━━━━━━━━━━━\u001b[0m \u001b[32m141.9/141.9 kB\u001b[0m \u001b[31m8.9 MB/s\u001b[0m eta \u001b[36m0:00:00\u001b[0m\n",
            "\u001b[2K   \u001b[90m━━━━━━━━━━━━━━━━━━━━━━━━━━━━━━━━━━━━━━━━\u001b[0m \u001b[32m41.3/41.3 kB\u001b[0m \u001b[31m2.7 MB/s\u001b[0m eta \u001b[36m0:00:00\u001b[0m\n",
            "\u001b[2K   \u001b[90m━━━━━━━━━━━━━━━━━━━━━━━━━━━━━━━━━━━━━━━━\u001b[0m \u001b[32m62.8/62.8 kB\u001b[0m \u001b[31m2.7 MB/s\u001b[0m eta \u001b[36m0:00:00\u001b[0m\n",
            "\u001b[2K   \u001b[90m━━━━━━━━━━━━━━━━━━━━━━━━━━━━━━━━━━━━━━━━\u001b[0m \u001b[32m58.3/58.3 kB\u001b[0m \u001b[31m3.4 MB/s\u001b[0m eta \u001b[36m0:00:00\u001b[0m\n",
            "\u001b[2K   \u001b[90m━━━━━━━━━━━━━━━━━━━━━━━━━━━━━━━━━━━━━━━━\u001b[0m \u001b[32m341.4/341.4 kB\u001b[0m \u001b[31m16.6 MB/s\u001b[0m eta \u001b[36m0:00:00\u001b[0m\n",
            "\u001b[2K   \u001b[90m━━━━━━━━━━━━━━━━━━━━━━━━━━━━━━━━━━━━━━━━\u001b[0m \u001b[32m49.2/49.2 kB\u001b[0m \u001b[31m3.2 MB/s\u001b[0m eta \u001b[36m0:00:00\u001b[0m\n",
            "\u001b[2K   \u001b[90m━━━━━━━━━━━━━━━━━━━━━━━━━━━━━━━━━━━━━━━━\u001b[0m \u001b[32m71.9/71.9 kB\u001b[0m \u001b[31m4.0 MB/s\u001b[0m eta \u001b[36m0:00:00\u001b[0m\n",
            "\u001b[2K   \u001b[90m━━━━━━━━━━━━━━━━━━━━━━━━━━━━━━━━━━━━━━━━\u001b[0m \u001b[32m3.4/3.4 MB\u001b[0m \u001b[31m36.1 MB/s\u001b[0m eta \u001b[36m0:00:00\u001b[0m\n",
            "\u001b[2K   \u001b[90m━━━━━━━━━━━━━━━━━━━━━━━━━━━━━━━━━━━━━━━━\u001b[0m \u001b[32m427.7/427.7 kB\u001b[0m \u001b[31m23.7 MB/s\u001b[0m eta \u001b[36m0:00:00\u001b[0m\n",
            "\u001b[2K   \u001b[90m━━━━━━━━━━━━━━━━━━━━━━━━━━━━━━━━━━━━━━━━\u001b[0m \u001b[32m130.2/130.2 kB\u001b[0m \u001b[31m9.0 MB/s\u001b[0m eta \u001b[36m0:00:00\u001b[0m\n",
            "\u001b[2K   \u001b[90m━━━━━━━━━━━━━━━━━━━━━━━━━━━━━━━━━━━━━━━━\u001b[0m \u001b[32m46.0/46.0 kB\u001b[0m \u001b[31m3.7 MB/s\u001b[0m eta \u001b[36m0:00:00\u001b[0m\n",
            "\u001b[2K   \u001b[90m━━━━━━━━━━━━━━━━━━━━━━━━━━━━━━━━━━━━━━━━\u001b[0m \u001b[32m86.8/86.8 kB\u001b[0m \u001b[31m4.7 MB/s\u001b[0m eta \u001b[36m0:00:00\u001b[0m\n",
            "\u001b[?25h  Building wheel for pypika (pyproject.toml) ... \u001b[?25l\u001b[?25hdone\n"
          ]
        }
      ],
      "source": [
        "!pip install -q --upgrade google-generativeai langchain langchain-community langchain-google-genai chromadb pypdf"
      ]
    },
    {
      "cell_type": "code",
      "source": [
        "from IPython.display import display, Markdown\n",
        "import textwrap\n",
        "\n",
        "def to_markdown(text):\n",
        "  text = text.replace('*', ' *')\n",
        "  return Markdown(textwrap.indent(text, '> ', predicate=lambda _: True))"
      ],
      "metadata": {
        "id": "_nBxc-9wdQ9f"
      },
      "execution_count": null,
      "outputs": []
    },
    {
      "cell_type": "code",
      "source": [
        "import google.generativeai as genai\n",
        "from google.colab import userdata"
      ],
      "metadata": {
        "id": "UNULMlnadSXt"
      },
      "execution_count": null,
      "outputs": []
    },
    {
      "cell_type": "code",
      "source": [
        "GOOGLE_API_KEY=userdata.get('GOOGLE_API_KEY')\n",
        "genai.configure(api_key=GOOGLE_API_KEY)"
      ],
      "metadata": {
        "id": "HVF74GfbdUNA"
      },
      "execution_count": null,
      "outputs": []
    },
    {
      "cell_type": "code",
      "source": [
        "import urllib\n",
        "import warnings\n",
        "from pathlib import Path as p\n",
        "from pprint import pprint\n",
        "\n",
        "import pandas as pd\n",
        "from langchain_google_genai import ChatGoogleGenerativeAI\n",
        "from langchain import PromptTemplate\n",
        "from langchain.chains.question_answering import load_qa_chain\n",
        "from langchain.document_loaders import PyPDFLoader\n",
        "from langchain.text_splitter import RecursiveCharacterTextSplitter\n",
        "from langchain.vectorstores import Chroma\n",
        "from langchain.chains import RetrievalQA\n",
        "from langchain_google_genai import GoogleGenerativeAIEmbeddings\n",
        "\n",
        "\n",
        "\n",
        "\n",
        "warnings.filterwarnings(\"ignore\")"
      ],
      "metadata": {
        "id": "GJWhelmidVfS"
      },
      "execution_count": null,
      "outputs": []
    },
    {
      "cell_type": "code",
      "source": [
        "model = ChatGoogleGenerativeAI(model=\"gemini-1.5-flash\",\n",
        "                                google_api_key=GOOGLE_API_KEY,\n",
        "                               temperature=0.2,\n",
        "                               convert_system_message_to_human=True)"
      ],
      "metadata": {
        "id": "dgHofYu2d9di"
      },
      "execution_count": null,
      "outputs": []
    },
    {
      "cell_type": "code",
      "source": [
        "from google.colab import drive\n",
        "drive.mount('/content/drive')"
      ],
      "metadata": {
        "colab": {
          "base_uri": "https://localhost:8080/"
        },
        "id": "9VGq5rH1uMrW",
        "outputId": "5f0a5ab9-fb00-49ff-d2f6-7f82d0a79234"
      },
      "execution_count": null,
      "outputs": [
        {
          "output_type": "stream",
          "name": "stdout",
          "text": [
            "Mounted at /content/drive\n"
          ]
        }
      ]
    },
    {
      "cell_type": "code",
      "source": [
        "import os\n",
        "def load__pdf():\n",
        "    pdf_folder_path = \"/content/drive/MyDrive/final/UPDATE\"\n",
        "    documents = []\n",
        "    for file in os.listdir(pdf_folder_path):\n",
        "        if file.endswith('.pdf'):\n",
        "            pdf_path = os.path.join(pdf_folder_path, file)\n",
        "            loader = PyPDFLoader(pdf_path)\n",
        "            documents.extend(loader.load())\n",
        "    return documents\n",
        "\n",
        "documents = load__pdf()"
      ],
      "metadata": {
        "id": "vD_D_sEYd_Cl"
      },
      "execution_count": null,
      "outputs": []
    },
    {
      "cell_type": "code",
      "source": [
        "embeddings = GoogleGenerativeAIEmbeddings(model=\"models/embedding-001\", google_api_key=GOOGLE_API_KEY)"
      ],
      "metadata": {
        "id": "knpG_R_7eA7X"
      },
      "execution_count": null,
      "outputs": []
    },
    {
      "cell_type": "code",
      "source": [
        "text_splitter = RecursiveCharacterTextSplitter(chunk_size=10000, chunk_overlap=5000)\n",
        "context = \"\\n\\n\".join(str(p.page_content) for p in documents)\n",
        "text = text_splitter.split_text(context)"
      ],
      "metadata": {
        "id": "Wam2yLwSePme"
      },
      "execution_count": null,
      "outputs": []
    },
    {
      "cell_type": "code",
      "source": [
        "vector_index = Chroma.from_texts(text, embeddings).as_retriever(search_kwargs={\"k\":10})"
      ],
      "metadata": {
        "id": "PHlUT_EneH5i"
      },
      "execution_count": null,
      "outputs": []
    },
    {
      "cell_type": "code",
      "source": [
        "from langchain.chains import (\n",
        "    create_history_aware_retriever,\n",
        "    create_retrieval_chain,\n",
        ")\n",
        "from langchain.chains.combine_documents import create_stuff_documents_chain\n",
        "from langchain_core.prompts import ChatPromptTemplate, MessagesPlaceholder\n",
        "\n",
        "retriever = vector_index\n",
        "llm = model\n",
        "\n",
        "# Contextualize question\n",
        "contextualize_q_system_prompt = (\n",
        "    \"Given a chat history and the latest user question \"\n",
        "    \"which might reference context in the chat history, \"\n",
        "    \"formulate a standalone question which can be understood \"\n",
        "    \"without the chat history. Do NOT answer the question, just \"\n",
        "    \"reformulate it if needed and otherwise return it as is.\"\n",
        ")\n",
        "contextualize_q_prompt = ChatPromptTemplate.from_messages(\n",
        "    [\n",
        "        (\"system\", contextualize_q_system_prompt),\n",
        "        MessagesPlaceholder(\"chat_history\"),\n",
        "        (\"human\", \"{input}\"),\n",
        "    ]\n",
        ")\n",
        "\n",
        "history_aware_retriever = create_history_aware_retriever(\n",
        "    llm, retriever, contextualize_q_prompt\n",
        ")\n",
        "\n",
        "# Answer question\n",
        "qa_system_prompt = (\n",
        "    \"\"\"\n",
        "    Kamu adalah JOKO, seorang analis hukum yang membantu menjawab pertanyaan terkait hukum.\n",
        "    Gunakan konteks yang ditemukan untuk menjawab pertanyaan.\n",
        "    Jika tidak tahu jawabannya, katakan minta maaf dan katakan bahwa pertanyaan belum dapat dijawab dengan dataset saat ini\n",
        "    Format jawaban wajib dalam bentuk format list of object, seperti contoh berikut:\n",
        "    {{\"full_answer\": \"Rangkuman jawaban secara keseluruhan\",\n",
        "    '\"laws\": [{{\"jawaban\": \"pasal ini menyebutkan bahwa...\", \"undang-undang\": \"Undang-Undang Nomor ...\",\"BAB\": \"BAB ...\" \"pasal\": \"Pasal ...\", \"ayat\": ayat ...}},\n",
        "    {{\"jawaban\": \"pasal ini menyebutkan bahwa...\", \"undang-undang\": \"Undang-Undang Nomor ...\",\"BAB\": \"BAB ...\" \"pasal\": \"Pasal ...\", \"ayat\": ayat ...}},\n",
        "    {{\"jawaban\": \"pasal ini menyebutkan bahwa...\", \"undang-undang\": \"Undang-Undang Nomor ...\",\"BAB\": \"BAB ...\" \"pasal\": \"Pasal ...\", \"ayat\": ayat ...}}, dan seterusnya]}}'\n",
        "    sesuaikan output ke dalam format yang sudah dicontohkan.\n",
        "    Meskipun jawaban anda tidak memiliki undang-undang, tetap gunakan format yang di contohkah. isi jawabanmu di full_answer dan laws di null kan\n",
        "    {context}\n",
        "    \"\"\"\n",
        ")\n",
        "\n",
        "\n",
        "qa_prompt = ChatPromptTemplate.from_messages(\n",
        "    [\n",
        "        (\"system\", qa_system_prompt), MessagesPlaceholder(\"chat_history\"), (\"human\", \"{input}\"),\n",
        "    ]\n",
        ")\n",
        "\n",
        "#use create_stuff_documents_chain to feed all retrieved context\n",
        "\n",
        "question_answer_chain = create_stuff_documents_chain(llm, qa_prompt)\n",
        "\n",
        "rag_chain = create_retrieval_chain(\n",
        "history_aware_retriever, question_answer_chain\n",
        ")\n",
        "\n",
        "# Usage:\n",
        "chat_history = []\n",
        "# Collect chat history here (a sequence of messages)"
      ],
      "metadata": {
        "id": "6lWTDs3eeT23"
      },
      "execution_count": null,
      "outputs": []
    },
    {
      "cell_type": "markdown",
      "source": [],
      "metadata": {
        "id": "M76Zz0pWYzh7"
      }
    },
    {
      "cell_type": "code",
      "source": [
        "query=\"apa hukuman bagi seseorang yang mengendarai motor tetapi tidak memakai helm?\"\n",
        "qa = rag_chain.invoke({\"input\": query, \"chat_history\": chat_history})\n",
        "chat_history.extend([query, qa[\"answer\"]])"
      ],
      "metadata": {
        "id": "wqh2rPZanfe0"
      },
      "execution_count": null,
      "outputs": []
    },
    {
      "cell_type": "code",
      "source": [
        "to_markdown(qa['answer'])"
      ],
      "metadata": {
        "colab": {
          "base_uri": "https://localhost:8080/",
          "height": 82
        },
        "id": "QN2rzCNYn6tJ",
        "outputId": "28415ed0-1640-445e-e86e-b18e321b9dae"
      },
      "execution_count": null,
      "outputs": [
        {
          "output_type": "execute_result",
          "data": {
            "text/plain": [
              "<IPython.core.display.Markdown object>"
            ],
            "text/markdown": "> ```json\n> {\"full_answer\": \"Berdasarkan Undang-Undang Nomor 22 Tahun 2009 tentang Lalu Lintas dan Angkutan Jalan, seseorang yang mengendarai sepeda motor tetapi tidak mengenakan helm standar nasional Indonesia sebagaimana dimaksud dalam Pasal 106 ayat (8) dipidana dengan pidana kurungan paling lama 1 (satu) bulan atau denda paling banyak Rp250.000,00 (dua ratus lima puluh ribu rupiah).\", \"laws\": [{\"jawaban\": \"Setiap orang yang mengemudikan Sepeda Motor dan Penumpang Sepeda Motor wajib mengenakan helm yang memenuhi standar nasional Indonesia sebagaimana dimaksud dalam Pasal 106 ayat (8) dipidana dengan pidana kurungan paling lama 1 (satu) bulan atau denda paling banyak Rp250.000,00 (dua ratus lima puluh ribu rupiah).\", \"undang-undang\": \"Undang-Undang Nomor 22 Tahun 2009 tentang Lalu Lintas dan Angkutan Jalan\", \"BAB\": \"BAB IX LALU LINTAS\", \"pasal\": \"Pasal 106\", \"ayat\": \"ayat 8\"}]}\n> ```"
          },
          "metadata": {},
          "execution_count": 26
        }
      ]
    },
    {
      "cell_type": "code",
      "source": [
        "query=\"bagaimana apabila hanya penumpangnya yang tidak memakai helm?\"\n",
        "qa = rag_chain.invoke({\"input\": query, \"chat_history\": chat_history})\n",
        "to_markdown(qa['answer'])"
      ],
      "metadata": {
        "colab": {
          "base_uri": "https://localhost:8080/",
          "height": 82
        },
        "id": "5dIhR5FVn856",
        "outputId": "158c7e25-0b97-48be-99e6-7679f832693d"
      },
      "execution_count": null,
      "outputs": [
        {
          "output_type": "execute_result",
          "data": {
            "text/plain": [
              "<IPython.core.display.Markdown object>"
            ],
            "text/markdown": "> ```json\n> {\"full_answer\": \"Berdasarkan Undang-Undang Nomor 22 Tahun 2009 tentang Lalu Lintas dan Angkutan Jalan, seseorang yang mengemudikan Sepeda Motor yang membiarkan penumpangnya tidak mengenakan helm sebagaimana dimaksud dalam Pasal 106 ayat (8) dipidana dengan pidana kurungan paling lama 1 (satu) bulan atau denda paling banyak Rp250.000,00 (dua ratus lima puluh ribu rupiah).\", \"laws\": [{\"jawaban\": \"Setiap orang yang mengemudikan Sepeda Motor yang membiarkan penumpangnya tidak mengenakan helm sebagaimana dimaksud dalam Pasal 106 ayat (8) dipidana dengan pidana kurungan paling lama 1 (satu) bulan atau denda paling banyak Rp250.000,00 (dua ratus lima puluh ribu rupiah).\", \"undang-undang\": \"Undang-Undang Nomor 22 Tahun 2009 tentang Lalu Lintas dan Angkutan Jalan\", \"BAB\": \"BAB IX LALU LINTAS\", \"pasal\": \"Pasal 106\", \"ayat\": \"ayat 8\"}]}\n> ```"
          },
          "metadata": {},
          "execution_count": 27
        }
      ]
    },
    {
      "cell_type": "code",
      "source": [
        "chat_history.extend([query, qa[\"answer\"]])"
      ],
      "metadata": {
        "id": "R4ihdsHcdWAJ"
      },
      "execution_count": null,
      "outputs": []
    },
    {
      "cell_type": "code",
      "source": [
        "query=\"sebutkan tugas tugas seorang presiden\"\n",
        "qa = rag_chain.invoke({\"input\": query, \"chat_history\": chat_history})\n",
        "to_markdown(qa['answer'])"
      ],
      "metadata": {
        "colab": {
          "base_uri": "https://localhost:8080/",
          "height": 82
        },
        "id": "9NN6_yKHdcEa",
        "outputId": "a5dfc917-657a-4f93-eb1c-62a057a58eba"
      },
      "execution_count": null,
      "outputs": [
        {
          "output_type": "execute_result",
          "data": {
            "text/plain": [
              "<IPython.core.display.Markdown object>"
            ],
            "text/markdown": "> ```json\n> {\"full_answer\": \"Tugas-tugas seorang Presiden Republik Indonesia tercantum dalam Undang-Undang Dasar 1945, terutama dalam Bab III Kekuasaan Pemerintahan Negara. Berikut beberapa tugas utama seorang Presiden:\\n\\n1.  * *Memegang Kekuasaan Pemerintahan: * * Presiden memegang kekuasaan pemerintahan tertinggi di Indonesia, menjalankan pemerintahan berdasarkan UUD 1945. (Pasal 4 ayat 1)\\n2.  * *Dibantu Wakil Presiden: * * Presiden dibantu oleh Wakil Presiden dalam menjalankan tugasnya. (Pasal 4 ayat 2)\\n3.  * *Mengajukan Rancangan Undang-Undang: * * Presiden berhak mengajukan rancangan undang-undang kepada Dewan Perwakilan Rakyat (DPR). (Pasal 5 ayat 1)\\n4.  * *Menetapkan Peraturan Pemerintah: * * Presiden menetapkan peraturan pemerintah untuk menjalankan undang-undang sebagaimana mestinya. (Pasal 5 ayat 2)\\n5.  * *Menetapkan Keadaan Bahaya: * * Presiden menyatakan keadaan bahaya, dengan syarat dan akibat yang ditetapkan dalam undang-undang. (Pasal 12)\\n6.  * *Menyatakan Perang, Perdamaian, dan Perjanjian: * * Presiden menyatakan perang, membuat perdamaian, dan perjanjian dengan negara lain dengan persetujuan DPR. (Pasal 11 ayat 1)\\n7.  * *Membuat Perjanjian Internasional: * * Presiden membuat perjanjian internasional lainnya dengan persetujuan DPR jika menimbulkan akibat luas dan mendasar bagi rakyat, terkait beban keuangan negara, atau mengharuskan perubahan/pembentukan undang-undang. (Pasal 11 ayat 2)\\n8.  * *Mengangkat Duta dan Konsul: * * Presiden mengangkat duta dan konsul dengan memperhatikan pertimbangan DPR. (Pasal 13 ayat 1 dan 2)\\n9.  * *Menerima Duta Negara Lain: * * Presiden menerima penempatan duta negara lain dengan memperhatikan pertimbangan DPR. (Pasal 13 ayat 3)\\n10.  * *Memberi Grasi dan Rehabilitasi: * * Presiden memberi grasi dan rehabilitasi dengan memperhatikan pertimbangan Mahkamah Agung. (Pasal 14 ayat 1)\\n11.  * *Memberi Amnesti dan Abolisi: * * Presiden memberi amnesti dan abolisi dengan memperhatikan pertimbangan DPR. (Pasal 14 ayat 2)\\n12.  * *Memberi Gelar, Tanda Jasa, dan Tanda Kehormatan: * * Presiden memberi gelar, tanda jasa, dan tanda kehormatan lainnya yang diatur dalam undang-undang. (Pasal 15)\\n13.  * *Membentuk Dewan Pertimbangan: * * Presiden membentuk Dewan Pertimbangan yang bertugas memberikan nasihat dan pertimbangan kepada Presiden, diatur lebih lanjut dalam undang-undang. (Pasal 16)\\n14.  * *Mengangkat dan Memberhentikan Menteri: * * Presiden mengangkat dan memberhentikan menteri-menteri negara. (Pasal 17 ayat 2)\\n15.  * *Memimpin Sidang Kabinet: * * Presiden memimpin sidang kabinet untuk membahas dan memutuskan kebijakan pemerintahan. (Pasal 17 ayat 3)\\n16.  * *Memegang Kekuasaan Tertinggi Atas TNI: * * Presiden memegang kekuasaan tertinggi atas Tentara Nasional Indonesia (TNI). (Pasal 10)\\n17.  * *Melantik Presiden dan/atau Wakil Presiden: * * Presiden dan/atau Wakil Presiden dilantik oleh Majelis Permusyawaratan Rakyat (MPR). (Pasal 3 ayat 2)\\n18.  * *Memberhentikan Presiden dan/atau Wakil Presiden: * * Presiden dan/atau Wakil Presiden dapat diberhentikan dalam masa jabatannya oleh MPR atas usul DPR. (Pasal 3 ayat 3)\\n\\nSelain tugas-tugas tersebut, Presiden juga memiliki peran penting dalam menjaga stabilitas politik dan keamanan negara, serta mendorong pembangunan nasional.\", \"laws\": [{\"jawaban\": \"Presiden memegang kekuasaan pemerintahan tertinggi di Indonesia, menjalankan pemerintahan berdasarkan UUD 1945.\", \"undang-undang\": \"Undang-Undang Dasar 1945\", \"BAB\": \"BAB III KEKUASAAN PEMERINTAHAN NEGARA\", \"pasal\": \"Pasal 4\", \"ayat\": \"ayat 1\"}, {\"jawaban\": \"Presiden dibantu oleh Wakil Presiden dalam menjalankan tugasnya.\", \"undang-undang\": \"Undang-Undang Dasar 1945\", \"BAB\": \"BAB III KEKUASAAN PEMERINTAHAN NEGARA\", \"pasal\": \"Pasal 4\", \"ayat\": \"ayat 2\"}, {\"jawaban\": \"Presiden berhak mengajukan rancangan undang-undang kepada Dewan Perwakilan Rakyat (DPR).\", \"undang-undang\": \"Undang-Undang Dasar 1945\", \"BAB\": \"BAB III KEKUASAAN PEMERINTAHAN NEGARA\", \"pasal\": \"Pasal 5\", \"ayat\": \"ayat 1\"}, {\"jawaban\": \"Presiden menetapkan peraturan pemerintah untuk menjalankan undang-undang sebagaimana mestinya.\", \"undang-undang\": \"Undang-Undang Dasar 1945\", \"BAB\": \"BAB III KEKUASAAN PEMERINTAHAN NEGARA\", \"pasal\": \"Pasal 5\", \"ayat\": \"ayat 2\"}, {\"jawaban\": \"Presiden menyatakan keadaan bahaya, dengan syarat dan akibat yang ditetapkan dalam undang-undang.\", \"undang-undang\": \"Undang-Undang Dasar 1945\", \"BAB\": \"BAB III KEKUASAAN PEMERINTAHAN NEGARA\", \"pasal\": \"Pasal 12\", \"ayat\": \"\"}, {\"jawaban\": \"Presiden menyatakan perang, membuat perdamaian, dan perjanjian dengan negara lain dengan persetujuan DPR.\", \"undang-undang\": \"Undang-Undang Dasar 1945\", \"BAB\": \"BAB III KEKUASAAN PEMERINTAHAN NEGARA\", \"pasal\": \"Pasal 11\", \"ayat\": \"ayat 1\"}, {\"jawaban\": \"Presiden membuat perjanjian internasional lainnya dengan persetujuan DPR jika menimbulkan akibat luas dan mendasar bagi rakyat, terkait beban keuangan negara, atau mengharuskan perubahan/pembentukan undang-undang.\", \"undang-undang\": \"Undang-Undang Dasar 1945\", \"BAB\": \"BAB III KEKUASAAN PEMERINTAHAN NEGARA\", \"pasal\": \"Pasal 11\", \"ayat\": \"ayat 2\"}, {\"jawaban\": \"Presiden mengangkat duta dan konsul dengan memperhatikan pertimbangan DPR.\", \"undang-undang\": \"Undang-Undang Dasar 1945\", \"BAB\": \"BAB III KEKUASAAN PEMERINTAHAN NEGARA\", \"pasal\": \"Pasal 13\", \"ayat\": \"ayat 1 dan 2\"}, {\"jawaban\": \"Presiden menerima penempatan duta negara lain dengan memperhatikan pertimbangan DPR.\", \"undang-undang\": \"Undang-Undang Dasar 1945\", \"BAB\": \"BAB III KEKUASAAN PEMERINTAHAN NEGARA\", \"pasal\": \"Pasal 13\", \"ayat\": \"ayat 3\"}, {\"jawaban\": \"Presiden memberi grasi dan rehabilitasi dengan memperhatikan pertimbangan Mahkamah Agung.\", \"undang-undang\": \"Undang-Undang Dasar 1945\", \"BAB\": \"BAB III KEKUASAAN PEMERINTAHAN NEGARA\", \"pasal\": \"Pasal 14\", \"ayat\": \"ayat 1\"}, {\"jawaban\": \"Presiden memberi amnesti dan abolisi dengan memperhatikan pertimbangan DPR.\", \"undang-undang\": \"Undang-Undang Dasar 1945\", \"BAB\": \"BAB III KEKUASAAN PEMERINTAHAN NEGARA\", \"pasal\": \"Pasal 14\", \"ayat\": \"ayat 2\"}, {\"jawaban\": \"Presiden memberi gelar, tanda jasa, dan tanda kehormatan lainnya yang diatur dalam undang-undang.\", \"undang-undang\": \"Undang-Undang Dasar 1945\", \"BAB\": \"BAB III KEKUASAAN PEMERINTAHAN NEGARA\", \"pasal\": \"Pasal 15\", \"ayat\": \"\"}, {\"jawaban\": \"Presiden membentuk Dewan Pertimbangan yang bertugas memberikan nasihat dan pertimbangan kepada Presiden, diatur lebih lanjut dalam undang-undang.\", \"undang-undang\": \"Undang-Undang Dasar 1945\", \"BAB\": \"BAB III KEKUASAAN PEMERINTAHAN NEGARA\", \"pasal\": \"Pasal 16\", \"ayat\": \"\"}, {\"jawaban\": \"Presiden mengangkat dan memberhentikan menteri-menteri negara.\", \"undang-undang\": \"Undang-Undang Dasar 1945\", \"BAB\": \"BAB V KEMENTERIAN NEGARA\", \"pasal\": \"Pasal 17\", \"ayat\": \"ayat 2\"}, {\"jawaban\": \"Presiden memimpin sidang kabinet untuk membahas dan memutuskan kebijakan pemerintahan.\", \"undang-undang\": \"Undang-Undang Dasar 1945\", \"BAB\": \"BAB V KEMENTERIAN NEGARA\", \"pasal\": \"Pasal 17\", \"ayat\": \"ayat 3\"}, {\"jawaban\": \"Presiden memegang kekuasaan tertinggi atas Tentara Nasional Indonesia (TNI).\", \"undang-undang\": \"Undang-Undang Dasar 1945\", \"BAB\": \"BAB III KEKUASAAN PEMERINTAHAN NEGARA\", \"pasal\": \"Pasal 10\", \"ayat\": \"\"}, {\"jawaban\": \"Presiden dan/atau Wakil Presiden dilantik oleh Majelis Permusyawaratan Rakyat (MPR).\", \"undang-undang\": \"Undang-Undang Dasar 1945\", \"BAB\": \"BAB II MAJ ELIS PERMUSYAWARATAN RAKYAT\", \"pasal\": \"Pasal 3\", \"ayat\": \"ayat 2\"}, {\"jawaban\": \"Presiden dan/atau Wakil Presiden dapat diberhentikan dalam masa jabatannya oleh MPR atas usul DPR.\", \"undang-undang\": \"Undang-Undang Dasar 1945\", \"BAB\": \"BAB II MAJ ELIS PERMUSYAWARATAN RAKYAT\", \"pasal\": \"Pasal 3\", \"ayat\": \"ayat 3\"}]}\n> ```"
          },
          "metadata": {},
          "execution_count": 29
        }
      ]
    },
    {
      "cell_type": "code",
      "source": [
        "chat_history.extend([query, qa[\"answer\"]])"
      ],
      "metadata": {
        "id": "IXyVPBudwTft"
      },
      "execution_count": null,
      "outputs": []
    },
    {
      "cell_type": "code",
      "source": [
        "query=\"bagaimana peran dewan perwakilan rakyat di dalam pemerintahan\"\n",
        "qa = rag_chain.invoke({\"input\": query, \"chat_history\": chat_history})\n",
        "to_markdown(qa['answer'])"
      ],
      "metadata": {
        "colab": {
          "base_uri": "https://localhost:8080/",
          "height": 82
        },
        "id": "eW5v8cvWm4xs",
        "outputId": "3da596ca-f110-44e2-abcf-f192133af3fb"
      },
      "execution_count": null,
      "outputs": [
        {
          "output_type": "execute_result",
          "data": {
            "text/plain": [
              "<IPython.core.display.Markdown object>"
            ],
            "text/markdown": "> ```json\n> {\"full_answer\": \"Dewan Perwakilan Rakyat (DPR) memiliki peran penting dalam pemerintahan, yaitu sebagai lembaga legislatif yang memiliki fungsi legislasi, anggaran, dan pengawasan. \\n\\nFungsi legislasi DPR adalah membentuk undang-undang. DPR bersama Presiden membahas dan menyetujui rancangan undang-undang yang diajukan oleh Presiden atau anggota DPR. \\n\\nFungsi anggaran DPR adalah menyetujui anggaran pendapatan dan belanja negara (APBN) yang diajukan oleh Presiden. DPR juga memiliki kewenangan untuk mengawasi pelaksanaan APBN. \\n\\nFungsi pengawasan DPR adalah mengawasi pelaksanaan undang-undang dan kebijakan pemerintah. DPR memiliki hak interpelasi, hak angket, dan hak menyatakan pendapat untuk menjalankan fungsi pengawasan ini. \\n\\nSelain itu, DPR juga memiliki peran dalam pemilihan umum, yaitu memilih anggota Dewan Perwakilan Daerah, Presiden dan Wakil Presiden, dan Dewan Perwakilan Rakyat Daerah. DPR juga memiliki peran dalam mengangkat hakim agung dan anggota Badan Pemeriksa Keuangan.\", \"laws\": []}\n> ```"
          },
          "metadata": {},
          "execution_count": 34
        }
      ]
    },
    {
      "cell_type": "code",
      "source": [
        "qa['answer']"
      ],
      "metadata": {
        "colab": {
          "base_uri": "https://localhost:8080/"
        },
        "id": "6rZ4rRBOtw5F",
        "outputId": "57fab594-74af-44bb-a24e-558ec24b6022"
      },
      "execution_count": null,
      "outputs": [
        {
          "output_type": "execute_result",
          "data": {
            "text/plain": [
              "'Dewan Perwakilan Rakyat (DPR) memiliki peran yang sangat penting dalam sistem pemerintahan di Indonesia. Peran DPR dapat dibagi menjadi beberapa aspek:\\n\\n**1. Legislatif (Pembuat Undang-Undang):**\\n\\n* **Membuat dan Menetapkan Undang-Undang:** DPR memiliki kewenangan untuk mengajukan, membahas, dan menetapkan undang-undang bersama pemerintah. \\n* **Menetapkan Anggaran:** DPR bersama pemerintah menetapkan Anggaran Pendapatan dan Belanja Negara (APBN) yang mengatur pengeluaran dan pendapatan negara.\\n* **Menetapkan Peraturan Perundang-undangan:** DPR dapat membuat peraturan perundang-undangan di bawah undang-undang, seperti Peraturan DPR.\\n\\n**2. Pengawasan:**\\n\\n* **Melakukan Pengawasan terhadap Pemerintah:** DPR bertugas mengawasi pelaksanaan tugas pemerintah, baik di tingkat pusat maupun daerah. \\n* **Menyusun dan Menetapkan Anggaran:** DPR memiliki hak untuk mengawasi penggunaan anggaran negara yang telah ditetapkan.\\n* **Menyusun dan Menetapkan Peraturan Perundang-undangan:** DPR memiliki hak untuk mengawasi pelaksanaan peraturan perundang-undangan yang telah ditetapkan.\\n* **Membuat Pansus:** DPR dapat membentuk Panitia Khusus (Pansus) untuk menyelidiki suatu masalah yang dianggap penting.\\n\\n**3. Representasi:**\\n\\n* **Mewakili Rakyat:** DPR merupakan lembaga perwakilan rakyat yang dipilih melalui Pemilihan Umum (Pemilu). \\n* **Menampung Aspirasi Rakyat:** DPR bertugas menampung dan menyalurkan aspirasi rakyat kepada pemerintah.\\n* **Membuat Kebijakan:** DPR memiliki hak untuk membuat kebijakan yang dianggap penting bagi rakyat.\\n\\n**4. Fungsi Lain:**\\n\\n* **Menjalankan Fungsi Diplomatik:** DPR dapat melakukan kunjungan ke negara lain untuk menjalin hubungan diplomatik.\\n* **Menjalankan Fungsi Konsultasi:** DPR dapat melakukan konsultasi dengan berbagai pihak, seperti pemerintah, masyarakat, dan organisasi kemasyarakatan.\\n\\n**Singkatnya, DPR memiliki peran yang sangat penting dalam sistem pemerintahan di Indonesia. DPR berperan sebagai lembaga legislatif, pengawas, dan perwakilan rakyat. DPR juga memiliki fungsi lain, seperti menjalankan fungsi diplomatik dan konsultasi.**\\n'"
            ],
            "application/vnd.google.colaboratory.intrinsic+json": {
              "type": "string"
            }
          },
          "metadata": {},
          "execution_count": 20
        }
      ]
    },
    {
      "cell_type": "code",
      "source": [
        "chat_history"
      ],
      "metadata": {
        "id": "NFUiSlVuuc1d",
        "colab": {
          "base_uri": "https://localhost:8080/"
        },
        "outputId": "b014795a-9eca-4478-bcd2-f84f82cae1a4"
      },
      "execution_count": null,
      "outputs": [
        {
          "output_type": "execute_result",
          "data": {
            "text/plain": [
              "['apa hukuman bagi seseorang yang mengendarai motor tetapi tidak memakai helm?',\n",
              " '```json\\n{\"full_answer\": \"Berdasarkan Undang-Undang Nomor 22 Tahun 2009 tentang Lalu Lintas dan Angkutan Jalan, seseorang yang mengendarai sepeda motor tetapi tidak memakai helm standar nasional Indonesia sebagaimana dimaksud dalam Pasal 106 ayat (8) dipidana dengan pidana kurungan paling lama 1 (satu) bulan atau denda paling banyak Rp250.000,00 (dua ratus lima puluh ribu rupiah).\", \"laws\": [{\"jawaban\": \"Setiap orang yang mengemudikan Sepeda Motor dan Penumpang Sepeda Motor wajib mengenakan helm yang memenuhi standar nasional Indonesia sebagaimana dimaksud dalam Pasal 106 ayat (8) dipidana dengan pidana kurungan paling lama 1 (satu) bulan atau denda paling banyak Rp250.000,00 (dua ratus lima puluh ribu rupiah).\", \"undang-undang\": \"Undang-Undang Nomor 22 Tahun 2009 tentang Lalu Lintas dan Angkutan Jalan\", \"BAB\": \"BAB IX LALU LINTAS\", \"pasal\": \"Pasal 106\", \"ayat\": \"ayat (8)\"}, {\"jawaban\": \"Setiap orang yang mengemudikan Sepeda Motor tidak mengenakan helm standar nasional Indonesia sebagaimana dimaksud dalam Pasal 106 ayat (8) dipidana dengan pidana kurungan paling lama 1 (satu) bulan atau denda paling banyak Rp250.000,00 (dua ratus lima puluh ribu rupiah).\", \"undang-undang\": \"Undang-Undang Nomor 22 Tahun 2009 tentang Lalu Lintas dan Angkutan Jalan\", \"BAB\": \"BAB XX KETENTUAN PIDANA\", \"pasal\": \"Pasal 291\", \"ayat\": \"ayat (1)\"}, {\"jawaban\": \"Setiap orang yang mengemudikan Sepeda Motor yang membiarkan penumpangnya tidak mengenakan helm sebagaimana dimaksud dalam Pasal 106 ayat (8) dipidana dengan pidana kurungan paling lama 1 (satu) bulan atau denda paling banyak Rp250.000,00 (dua ratus lima puluh ribu rupiah).\", \"undang-undang\": \"Undang-Undang Nomor 22 Tahun 2009 tentang Lalu Lintas dan Angkutan Jalan\", \"BAB\": \"BAB XX KETENTUAN PIDANA\", \"pasal\": \"Pasal 291\", \"ayat\": \"ayat (2)\"}]}\\n```',\n",
              " 'bagaimana apabila hanya penumpangnya yang tidak memakai helm?',\n",
              " '```json\\n{\"full_answer\": \"Berdasarkan Undang-Undang Nomor 22 Tahun 2009 tentang Lalu Lintas dan Angkutan Jalan, seseorang yang mengemudikan Sepeda Motor yang membiarkan penumpangnya tidak mengenakan helm sebagaimana dimaksud dalam Pasal 106 ayat (8) dipidana dengan pidana kurungan paling lama 1 (satu) bulan atau denda paling banyak Rp250.000,00 (dua ratus lima puluh ribu rupiah).\", \"laws\": [{\"jawaban\": \"Setiap orang yang mengemudikan Sepeda Motor yang membiarkan penumpangnya tidak mengenakan helm sebagaimana dimaksud dalam Pasal 106 ayat (8) dipidana dengan pidana kurungan paling lama 1 (satu) bulan atau denda paling banyak Rp250.000,00 (dua ratus lima puluh ribu rupiah).\", \"undang-undang\": \"Undang-Undang Nomor 22 Tahun 2009 tentang Lalu Lintas dan Angkutan Jalan\", \"BAB\": \"BAB XX KETENTUAN PIDANA\", \"pasal\": \"Pasal 291\", \"ayat\": \"ayat (2)\"}]}\\n```']"
            ]
          },
          "metadata": {},
          "execution_count": 21
        }
      ]
    },
    {
      "cell_type": "code",
      "source": [
        "query=\"apa pertanyaan saya sebelumnya\"\n",
        "qa = rag_chain.invoke({\"input\": query, \"chat_history\": chat_history})\n",
        "to_markdown(qa['answer'])"
      ],
      "metadata": {
        "colab": {
          "base_uri": "https://localhost:8080/",
          "height": 86
        },
        "id": "tll_eOrju9aI",
        "outputId": "f50fb929-568d-4036-c6f1-5450d8be77f0"
      },
      "execution_count": null,
      "outputs": [
        {
          "output_type": "execute_result",
          "data": {
            "text/plain": [
              "<IPython.core.display.Markdown object>"
            ],
            "text/markdown": "> Pertanyaan Anda sebelumnya adalah:\n> \n> \"bagaimana peran dewan perwakilan rakyat di dalam pemerintahan\" \n"
          },
          "metadata": {},
          "execution_count": 36
        }
      ]
    },
    {
      "cell_type": "code",
      "source": [
        "query=\"bagaimana peran dewan perwakilan rakyat di dalam pemerintahan\"\n",
        "qa = rag_chain.invoke({\"input\": query, \"chat_history\": chat_history})\n",
        "to_markdown(qa['answer'])"
      ],
      "metadata": {
        "colab": {
          "base_uri": "https://localhost:8080/",
          "height": 633
        },
        "id": "zH3VKEBNvGwA",
        "outputId": "cb17f6e9-e568-465e-f730-101cb9a22dab"
      },
      "execution_count": null,
      "outputs": [
        {
          "output_type": "execute_result",
          "data": {
            "text/plain": [
              "<IPython.core.display.Markdown object>"
            ],
            "text/markdown": "> Dewan Perwakilan Rakyat (DPR) memiliki peran yang sangat penting dalam sistem pemerintahan di Indonesia.  Peran DPR dapat dibagi menjadi beberapa aspek:\n> \n>  * *1. Legislatif (Pembuat Undang-Undang): * *\n> \n>  *  * *Membuat dan Menetapkan Undang-Undang: * * DPR memiliki wewenang untuk mengajukan, membahas, dan menetapkan undang-undang bersama pemerintah. \n>  *  * *Menetapkan Anggaran: * * DPR bersama pemerintah menetapkan Anggaran Pendapatan dan Belanja Negara (APBN) yang mengatur pengeluaran dan pendapatan negara.\n>  *  * *Mengawasi Pelaksanaan Undang-Undang: * * DPR memiliki wewenang untuk mengawasi pelaksanaan undang-undang yang telah ditetapkan.\n> \n>  * *2. Representatif (Mewakili Rakyat): * *\n> \n>  *  * *Menjadi Perantara Rakyat: * * DPR berfungsi sebagai perantara aspirasi rakyat kepada pemerintah. \n>  *  * *Menyampaikan Kritik dan Saran: * * DPR dapat menyampaikan kritik dan saran kepada pemerintah terkait kebijakan yang dianggap tidak sesuai dengan kepentingan rakyat.\n>  *  * *Melakukan Pengawasan terhadap Pemerintah: * * DPR memiliki wewenang untuk mengawasi kinerja pemerintah dan meminta pertanggungjawaban atas kebijakan yang diambil.\n> \n>  * *3. Kontrol (Mencegah Penyalahgunaan Kekuasaan): * *\n> \n>  *  * *Menetapkan dan Mengadili Presiden: * * DPR memiliki wewenang untuk menetapkan dan mengadili Presiden jika melakukan pelanggaran hukum.\n>  *  * *Mengajukan Impeachment: * * DPR dapat mengajukan impeachment terhadap Presiden jika dianggap melakukan pelanggaran berat.\n>  *  * *Mengawasi Penggunaan Kekuasaan: * * DPR memiliki wewenang untuk mengawasi penggunaan kekuasaan oleh pemerintah dan mencegah penyalahgunaan kekuasaan.\n> \n>  * *4. Fungsi Lainnya: * *\n> \n>  *  * *Memilih dan Mengangkat Menteri: * * DPR bersama Presiden memilih dan mengangkat Menteri.\n>  *  * *Menentukan Kebijakan Luar Negeri: * * DPR memiliki wewenang untuk menentukan kebijakan luar negeri bersama pemerintah.\n>  *  * *Menetapkan Perjanjian Internasional: * * DPR memiliki wewenang untuk menetapkan perjanjian internasional bersama pemerintah.\n> \n>  * *Singkatnya, DPR berperan sebagai lembaga legislatif, representatif, kontrol, dan memiliki fungsi lainnya yang penting dalam sistem pemerintahan di Indonesia.  DPR berfungsi untuk memastikan bahwa pemerintah menjalankan tugasnya dengan baik dan sesuai dengan kepentingan rakyat. * * \n"
          },
          "metadata": {},
          "execution_count": 23
        }
      ]
    },
    {
      "cell_type": "code",
      "source": [],
      "metadata": {
        "id": "aDG9GtQQvqxC"
      },
      "execution_count": null,
      "outputs": []
    }
  ]
}